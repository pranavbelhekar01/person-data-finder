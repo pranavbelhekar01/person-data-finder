{
 "cells": [
  {
   "cell_type": "code",
   "execution_count": 1,
   "metadata": {},
   "outputs": [],
   "source": [
    "import requests\n",
    "import os\n",
    "\n",
    "PERSON_API_KEY = \"u43Kod8Gwc2Bb3KAvSR9Q8m7pBs8nThq1zsNaLn5\"\n",
    "\n",
    "def find_person(name, api_key = PERSON_API_KEY, city=None, state_code=None, street_line_1=None, street_line_2=None, postal_code=None, country_code=None):\n",
    "    \"\"\"\n",
    "    Fetch details of a person using the Find Person API.\n",
    "\n",
    "    :param api_key: str - Your API key for authentication.\n",
    "    :param name: str - The name of the person to search for.\n",
    "    :param city: str (optional) - The city of the person's address.\n",
    "    :param state_code: str (optional) - The state code of the person's address.\n",
    "    :param street_line_1: str (optional) - The first line of the street part of the address.\n",
    "    :param street_line_2: str (optional) - The second line of the street part of the address.\n",
    "    :param postal_code: str (optional) - The postal code of the address.\n",
    "    :param country_code: str (optional) - The ISO-3166 alpha-2 country code of the address.\n",
    "\n",
    "    :return: dict - The JSON response from the API.\n",
    "    \"\"\"\n",
    "    url = \"https://api.trestleiq.com/3.1/person\"\n",
    "\n",
    "    # Construct query parameters\n",
    "    params = {\n",
    "        \"name\": name\n",
    "    }\n",
    "\n",
    "    if city:\n",
    "        params[\"address.city\"] = city\n",
    "    if state_code:\n",
    "        params[\"address.state_code\"] = state_code\n",
    "    if street_line_1:\n",
    "        params[\"address.street_line_1\"] = street_line_1\n",
    "    if street_line_2:\n",
    "        params[\"address.street_line_2\"] = street_line_2\n",
    "    if postal_code:\n",
    "        params[\"address.postal_code\"] = postal_code\n",
    "    if country_code:\n",
    "        params[\"address.country_code\"] = country_code\n",
    "\n",
    "    # Set headers\n",
    "    headers = {\n",
    "        \"x-api-key\": api_key\n",
    "    }\n",
    "\n",
    "    try:\n",
    "        # Make the API request\n",
    "        response = requests.get(url, headers=headers, params=params)\n",
    "\n",
    "        # Check for successful response\n",
    "        if response.status_code == 200:\n",
    "            return response.json()\n",
    "        else:\n",
    "            return {\n",
    "                \"error\": f\"API returned status code {response.status_code}\",\n",
    "                \"details\": response.text\n",
    "            }\n",
    "\n",
    "    except requests.RequestException as e:\n",
    "        return {\n",
    "            \"error\": \"An error occurred while making the API request.\",\n",
    "            \"details\": str(e)\n",
    "        }\n",
    "\n",
    "# # Example usage\n",
    "# if __name__ == \"__main__\":\n",
    "#     API_KEY = PERSON_API_KEY\n",
    "#     NAME = \"Galen Massey\"\n",
    "#     result = find_person(api_key = API_KEY, name = NAME, postal_code=\"28206\")\n",
    "#     print(result)\n"
   ]
  },
  {
   "cell_type": "code",
   "execution_count": 3,
   "metadata": {},
   "outputs": [],
   "source": [
    "API_KEY = PERSON_API_KEY\n",
    "NAME = \"Galen Massey\"\n",
    "result = find_person(api_key = API_KEY, name = NAME, postal_code=\"28206\")"
   ]
  },
  {
   "cell_type": "code",
   "execution_count": 7,
   "metadata": {},
   "outputs": [
    {
     "data": {
      "text/plain": [
       "dict_keys(['count_person', 'person', 'error', 'warnings'])"
      ]
     },
     "execution_count": 7,
     "metadata": {},
     "output_type": "execute_result"
    }
   ],
   "source": [
    "result.keys()"
   ]
  },
  {
   "cell_type": "code",
   "execution_count": 33,
   "metadata": {},
   "outputs": [
    {
     "data": {
      "text/plain": [
       "42"
      ]
     },
     "execution_count": 33,
     "metadata": {},
     "output_type": "execute_result"
    }
   ],
   "source": [
    "result['count_person']"
   ]
  },
  {
   "cell_type": "code",
   "execution_count": 35,
   "metadata": {},
   "outputs": [
    {
     "data": {
      "text/plain": [
       "{'id': 'Person.1fb700fc-798f-3e11-ae68-e5aa691d5b59',\n",
       " 'name': 'Collin Massey',\n",
       " 'firstname': 'Collin',\n",
       " 'middlename': None,\n",
       " 'lastname': 'Massey',\n",
       " 'alternate_names': [],\n",
       " 'age_range': '18-25',\n",
       " 'gender': 'M',\n",
       " 'found_at_address': {'id': 'Location.456b7097-0817-41a4-a593-f27b99435205',\n",
       "  'location_type': 'Address',\n",
       "  'street_line_1': '514 Wearn Ct',\n",
       "  'street_line_2': None,\n",
       "  'city': 'Charlotte',\n",
       "  'postal_code': '28206',\n",
       "  'zip4': '2972',\n",
       "  'state_code': 'NC',\n",
       "  'country_code': None,\n",
       "  'lat_long': {'latitude': 35.2395,\n",
       "   'longitude': -80.8409,\n",
       "   'accuracy': 'RoofTop'},\n",
       "  'is_active': None,\n",
       "  'delivery_point': 'SingleUnit',\n",
       "  'link_to_person_start_date': '2022-11-01'},\n",
       " 'current_addresses': [{'id': 'Location.456b7097-0817-41a4-a593-f27b99435205',\n",
       "   'location_type': 'Address',\n",
       "   'street_line_1': '514 Wearn Ct',\n",
       "   'street_line_2': None,\n",
       "   'city': 'Charlotte',\n",
       "   'postal_code': '28206',\n",
       "   'zip4': '2972',\n",
       "   'state_code': 'NC',\n",
       "   'country_code': None,\n",
       "   'lat_long': {'latitude': 35.2395,\n",
       "    'longitude': -80.8409,\n",
       "    'accuracy': 'RoofTop'},\n",
       "   'is_active': None,\n",
       "   'delivery_point': 'SingleUnit',\n",
       "   'link_to_person_start_date': '2022-11-01'},\n",
       "  {'id': 'Location.b3d2cc70-dbc9-4b8b-954b-a5708a4c01f8',\n",
       "   'location_type': 'Address',\n",
       "   'street_line_1': '2451 Julia Ave Apt 1',\n",
       "   'street_line_2': None,\n",
       "   'city': 'Charlotte',\n",
       "   'postal_code': '28206',\n",
       "   'zip4': '1128',\n",
       "   'state_code': 'NC',\n",
       "   'country_code': None,\n",
       "   'lat_long': {'latitude': 35.2659,\n",
       "    'longitude': -80.8396,\n",
       "    'accuracy': 'RoofTop'},\n",
       "   'is_active': None,\n",
       "   'delivery_point': 'MultiUnit',\n",
       "   'link_to_person_start_date': '2017-03-29'}],\n",
       " 'historical_addresses': [],\n",
       " 'phones': [{'id': 'Phone.480d26d8-fb66-47e0-9a9f-9bd106a4bee5',\n",
       "   'phone_number': '+17049656736',\n",
       "   'line_type': 'Mobile'},\n",
       "  {'id': 'Phone.34e525cc-0e17-4e5f-9a85-2f4e46c123c3',\n",
       "   'phone_number': '+19803186805',\n",
       "   'line_type': 'Mobile'},\n",
       "  {'id': 'Phone.90d7cdf2-8cc3-4075-bae4-11adbbb1e1bb',\n",
       "   'phone_number': '+17044455625',\n",
       "   'line_type': 'NonFixedVOIP'}],\n",
       " 'emails': ['masseycollin13@gmail.com',\n",
       "  'masseycollin10@gmail.com',\n",
       "  'masseyjasmine88@yahoo.com'],\n",
       " 'associated_people': [{'id': 'Person.dd562742-0152-3c62-b4af-b3d472842594',\n",
       "   'name': 'Doris Willean Massey',\n",
       "   'firstname': 'Doris',\n",
       "   'middlename': 'Willean',\n",
       "   'lastname': 'Massey',\n",
       "   'relation': None},\n",
       "  {'id': 'Person.e975219e-54dc-3491-9c99-bb07c34a17c7',\n",
       "   'name': 'Lonnie Massey',\n",
       "   'firstname': 'Lonnie',\n",
       "   'middlename': None,\n",
       "   'lastname': 'Massey',\n",
       "   'relation': None},\n",
       "  {'id': 'Person.2719181d-9062-3ee4-85f3-2b0b7a662e52',\n",
       "   'name': 'Annie Loius Alexander',\n",
       "   'firstname': 'Annie',\n",
       "   'middlename': 'Loius',\n",
       "   'lastname': 'Alexander',\n",
       "   'relation': None},\n",
       "  {'id': 'Person.a9669b64-1286-369e-b02b-07c2060e7c98',\n",
       "   'name': 'Mary Massey Hayden',\n",
       "   'firstname': 'Mary',\n",
       "   'middlename': 'Massey',\n",
       "   'lastname': 'Hayden',\n",
       "   'relation': None},\n",
       "  {'id': 'Person.3c22fb3b-a2c4-371e-8ce6-67ea0b5f1959',\n",
       "   'name': 'Jasmine Chemise Massey',\n",
       "   'firstname': 'Jasmine',\n",
       "   'middlename': 'Chemise',\n",
       "   'lastname': 'Massey',\n",
       "   'relation': None}]}"
      ]
     },
     "execution_count": 35,
     "metadata": {},
     "output_type": "execute_result"
    }
   ],
   "source": [
    "result['person'][0]"
   ]
  },
  {
   "cell_type": "code",
   "execution_count": 12,
   "metadata": {},
   "outputs": [
    {
     "data": {
      "text/plain": [
       "dict_keys(['id', 'name', 'firstname', 'middlename', 'lastname', 'alternate_names', 'age_range', 'gender', 'found_at_address', 'current_addresses', 'historical_addresses', 'phones', 'emails', 'associated_people'])"
      ]
     },
     "execution_count": 12,
     "metadata": {},
     "output_type": "execute_result"
    }
   ],
   "source": [
    "result['person'][0].keys()"
   ]
  },
  {
   "cell_type": "code",
   "execution_count": 38,
   "metadata": {},
   "outputs": [],
   "source": [
    "name = \"Galen Massey\""
   ]
  },
  {
   "cell_type": "code",
   "execution_count": 39,
   "metadata": {},
   "outputs": [],
   "source": [
    "first_name, last_name = name.split(\" \")"
   ]
  },
  {
   "cell_type": "code",
   "execution_count": 40,
   "metadata": {},
   "outputs": [
    {
     "data": {
      "text/plain": [
       "'Galen'"
      ]
     },
     "execution_count": 40,
     "metadata": {},
     "output_type": "execute_result"
    }
   ],
   "source": [
    "first_name"
   ]
  },
  {
   "cell_type": "code",
   "execution_count": 41,
   "metadata": {},
   "outputs": [
    {
     "ename": "TypeError",
     "evalue": "list indices must be integers or slices, not str",
     "output_type": "error",
     "traceback": [
      "\u001b[1;31m---------------------------------------------------------------------------\u001b[0m",
      "\u001b[1;31mTypeError\u001b[0m                                 Traceback (most recent call last)",
      "Cell \u001b[1;32mIn[41], line 2\u001b[0m\n\u001b[0;32m      1\u001b[0m \u001b[38;5;28;01mfor\u001b[39;00m i \u001b[38;5;129;01min\u001b[39;00m \u001b[38;5;28mrange\u001b[39m(\u001b[38;5;241m42\u001b[39m):\n\u001b[1;32m----> 2\u001b[0m     \u001b[38;5;28;01mif\u001b[39;00m first_name\u001b[38;5;241m.\u001b[39mlower() \u001b[38;5;129;01min\u001b[39;00m \u001b[43mresult\u001b[49m\u001b[43m[\u001b[49m\u001b[38;5;124;43m'\u001b[39;49m\u001b[38;5;124;43mperson\u001b[39;49m\u001b[38;5;124;43m'\u001b[39;49m\u001b[43m]\u001b[49m[i][\u001b[38;5;124m'\u001b[39m\u001b[38;5;124mfirstname\u001b[39m\u001b[38;5;124m'\u001b[39m]\u001b[38;5;241m.\u001b[39mlower() \u001b[38;5;129;01mand\u001b[39;00m last_name\u001b[38;5;241m.\u001b[39mlower() \u001b[38;5;129;01min\u001b[39;00m result[\u001b[38;5;124m'\u001b[39m\u001b[38;5;124mperson\u001b[39m\u001b[38;5;124m'\u001b[39m][i][\u001b[38;5;124m'\u001b[39m\u001b[38;5;124mlastname\u001b[39m\u001b[38;5;124m'\u001b[39m]\u001b[38;5;241m.\u001b[39mlower():\n\u001b[0;32m      3\u001b[0m         \u001b[38;5;66;03m# for key, value in result['person'][i].items():\u001b[39;00m\n\u001b[0;32m      4\u001b[0m         \u001b[38;5;66;03m#     if key == 'found_at_address':\u001b[39;00m\n\u001b[0;32m      5\u001b[0m         \u001b[38;5;66;03m#         for i, j in value.items():\u001b[39;00m\n\u001b[0;32m      6\u001b[0m         \u001b[38;5;66;03m#             print(f'{i} - {j}')\u001b[39;00m\n\u001b[0;32m      7\u001b[0m         \u001b[38;5;66;03m#     # elif key == 'current_addresses':\u001b[39;00m\n\u001b[0;32m      8\u001b[0m                 \n\u001b[0;32m      9\u001b[0m              \n\u001b[0;32m     10\u001b[0m \n\u001b[0;32m     11\u001b[0m         \u001b[38;5;66;03m#     print(f'{key} - {value}')\u001b[39;00m\n\u001b[0;32m     12\u001b[0m         \u001b[38;5;28mprint\u001b[39m(result[\u001b[38;5;124m'\u001b[39m\u001b[38;5;124mperson\u001b[39m\u001b[38;5;124m'\u001b[39m][i])\n\u001b[0;32m     13\u001b[0m         \u001b[38;5;28mprint\u001b[39m(i)\n",
      "\u001b[1;31mTypeError\u001b[0m: list indices must be integers or slices, not str"
     ]
    }
   ],
   "source": [
    "for i in range(42):\n",
    "    if first_name.lower() in result['person'][i]['firstname'].lower() and last_name.lower() in result['person'][i]['lastname'].lower():\n",
    "        # for key, value in result['person'][i].items():\n",
    "        #     if key == 'found_at_address':\n",
    "        #         for i, j in value.items():\n",
    "        #             print(f'{i} - {j}')\n",
    "        #     # elif key == 'current_addresses':\n",
    "                \n",
    "             \n",
    "\n",
    "        #     print(f'{key} - {value}')\n",
    "        print(result['person'][i])\n",
    "        print(i)\n",
    "        # print('---------------------------')"
   ]
  },
  {
   "cell_type": "code",
   "execution_count": 36,
   "metadata": {},
   "outputs": [
    {
     "name": "stdout",
     "output_type": "stream",
     "text": [
      "current_addresses[0].id: Location.f2db666c-9655-40d2-af36-d48c1b3beba8\n",
      "current_addresses[0].location_type: Address\n",
      "current_addresses[0].street_line_1: 8300 Streamview Dr Apt E\n",
      "current_addresses[0].street_line_2: None\n",
      "current_addresses[0].city: Huntersville\n",
      "current_addresses[0].postal_code: 28078\n",
      "current_addresses[0].zip4: 6108\n",
      "current_addresses[0].state_code: NC\n",
      "current_addresses[0].country_code: None\n",
      "current_addresses[0].lat_long.latitude: 35.4411\n",
      "current_addresses[0].lat_long.longitude: -80.8844\n",
      "current_addresses[0].lat_long.accuracy: RoofTop\n",
      "current_addresses[0].is_active: None\n",
      "current_addresses[0].delivery_point: MultiUnit\n",
      "current_addresses[0].link_to_person_start_date: 2018-11-17\n",
      "current_addresses[1].id: Location.ad97a778-668a-49c4-9dae-6363320ee1d2\n",
      "current_addresses[1].location_type: Address\n",
      "current_addresses[1].street_line_1: 13715 Singleleaf Ln\n",
      "current_addresses[1].street_line_2: None\n",
      "current_addresses[1].city: Charlotte\n",
      "current_addresses[1].postal_code: 28278\n",
      "current_addresses[1].zip4: 7748\n",
      "current_addresses[1].state_code: NC\n",
      "current_addresses[1].country_code: None\n",
      "current_addresses[1].lat_long.latitude: 35.0984\n",
      "current_addresses[1].lat_long.longitude: -81.0026\n",
      "current_addresses[1].lat_long.accuracy: RoofTop\n",
      "current_addresses[1].is_active: None\n",
      "current_addresses[1].delivery_point: SingleUnit\n",
      "current_addresses[1].link_to_person_start_date: 2016-01-01\n"
     ]
    }
   ],
   "source": [
    "def extract_keys_and_values(data, parent_key=\"\"):\n",
    "    \"\"\"\n",
    "    Recursively extracts all keys and values from a nested dictionary or list of dictionaries.\n",
    "\n",
    "    :param data: The dictionary or list to extract keys and values from.\n",
    "    :param parent_key: Used to maintain the full path of the nested keys.\n",
    "    :return: A list of tuples with full key paths and their corresponding values.\n",
    "    \"\"\"\n",
    "    items = []\n",
    "\n",
    "    if isinstance(data, dict):\n",
    "        for key, value in data.items():\n",
    "            full_key = f\"{parent_key}.{key}\" if parent_key else key\n",
    "            if isinstance(value, (dict, list)):\n",
    "                items.extend(extract_keys_and_values(value, full_key))\n",
    "            else:\n",
    "                items.append((full_key, value))\n",
    "\n",
    "    elif isinstance(data, list):\n",
    "        for index, item in enumerate(data):\n",
    "            full_key = f\"{parent_key}[{index}]\" if parent_key else f\"[{index}]\"\n",
    "            items.extend(extract_keys_and_values(item, full_key))\n",
    "\n",
    "    return items\n",
    "\n",
    "# Example usage\n",
    "data = {\n",
    "    \"current_addresses\": [\n",
    "        {\n",
    "            \"id\": \"Location.f2db666c-9655-40d2-af36-d48c1b3beba8\",\n",
    "            \"location_type\": \"Address\",\n",
    "            \"street_line_1\": \"8300 Streamview Dr Apt E\",\n",
    "            \"street_line_2\": None,\n",
    "            \"city\": \"Huntersville\",\n",
    "            \"postal_code\": \"28078\",\n",
    "            \"zip4\": \"6108\",\n",
    "            \"state_code\": \"NC\",\n",
    "            \"country_code\": None,\n",
    "            \"lat_long\": {\n",
    "                \"latitude\": 35.4411,\n",
    "                \"longitude\": -80.8844,\n",
    "                \"accuracy\": \"RoofTop\"\n",
    "            },\n",
    "            \"is_active\": None,\n",
    "            \"delivery_point\": \"MultiUnit\",\n",
    "            \"link_to_person_start_date\": \"2018-11-17\"\n",
    "        },\n",
    "        {\n",
    "            \"id\": \"Location.ad97a778-668a-49c4-9dae-6363320ee1d2\",\n",
    "            \"location_type\": \"Address\",\n",
    "            \"street_line_1\": \"13715 Singleleaf Ln\",\n",
    "            \"street_line_2\": None,\n",
    "            \"city\": \"Charlotte\",\n",
    "            \"postal_code\": \"28278\",\n",
    "            \"zip4\": \"7748\",\n",
    "            \"state_code\": \"NC\",\n",
    "            \"country_code\": None,\n",
    "            \"lat_long\": {\n",
    "                \"latitude\": 35.0984,\n",
    "                \"longitude\": -81.0026,\n",
    "                \"accuracy\": \"RoofTop\"\n",
    "            },\n",
    "            \"is_active\": None,\n",
    "            \"delivery_point\": \"SingleUnit\",\n",
    "            \"link_to_person_start_date\": \"2016-01-01\"\n",
    "        }\n",
    "    ],\n",
    "    # Other keys can go here...\n",
    "}\n",
    "\n",
    "result = extract_keys_and_values(data)\n",
    "for key, value in result:\n",
    "    print(f\"{key}: {value}\")\n"
   ]
  },
  {
   "cell_type": "code",
   "execution_count": null,
   "metadata": {},
   "outputs": [],
   "source": []
  }
 ],
 "metadata": {
  "kernelspec": {
   "display_name": "AudioProcessing",
   "language": "python",
   "name": "python3"
  },
  "language_info": {
   "codemirror_mode": {
    "name": "ipython",
    "version": 3
   },
   "file_extension": ".py",
   "mimetype": "text/x-python",
   "name": "python",
   "nbconvert_exporter": "python",
   "pygments_lexer": "ipython3",
   "version": "3.11.3"
  }
 },
 "nbformat": 4,
 "nbformat_minor": 2
}
